{
 "cells": [
  {
   "cell_type": "markdown",
   "id": "46a313e0",
   "metadata": {},
   "source": []
  },
  {
   "cell_type": "code",
   "execution_count": null,
   "id": "71562612",
   "metadata": {},
   "outputs": [],
   "source": [
    "def simple_tokenizer(text):\n",
    "    return text.split()\n",
    "\n",
    "def simple_parser(tokens):\n",
    "   parsed_data = {}\n",
    "   for i in range(0, len(tokens), 2):\n",
    "      if i + 1 < len(tokens):\n",
    "         parsed_data[tokens[i]] = tokens[i + 1]\n",
    "         return parsed_data\n",
    "\n",
    "# Get input from the user\n",
    "text_input = input(\"Enter text (example: name John age 30 city Delhi):\")\n",
    "# Process the input\n",
    "tokens = simple_tokenizer(text_input)\n",
    "parsed_result = simple_parser(tokens)\n",
    "\n",
    "# Show the result\n",
    "print(\"Parsed key-value pairs:\")\n",
    "print(parsed_result)\n",
    "print(tokens)"
   ]
  }
 ],
 "metadata": {
  "kernelspec": {
   "display_name": "Python 3",
   "language": "python",
   "name": "python3"
  },
  "language_info": {
   "codemirror_mode": {
    "name": "ipython",
    "version": 3
   },
   "file_extension": ".py",
   "mimetype": "text/x-python",
   "name": "python",
   "nbconvert_exporter": "python",
   "pygments_lexer": "ipython3",
   "version": "3.13.5"
  }
 },
 "nbformat": 4,
 "nbformat_minor": 5
}
