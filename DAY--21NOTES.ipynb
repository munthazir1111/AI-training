{
 "cells": [
  {
   "cell_type": "code",
   "execution_count": 2,
   "id": "05ba64b4",
   "metadata": {},
   "outputs": [
    {
     "name": "stdout",
     "output_type": "stream",
     "text": [
      "DDRR\n",
      "RRDD\n"
     ]
    }
   ],
   "source": [
    "def find(x, y, path, grid, visited):\n",
    "    if x == 2 and y == 2:\n",
    "        print(path)\n",
    "        return\n",
    "\n",
    "    if x + 1 <= 2 and grid[x + 1][y] == 0 and not visited[x + 1][y]:\n",
    "        visited[x + 1][y] = True\n",
    "        find(x + 1, y, path + \"D\", grid, visited)\n",
    "        visited[x + 1][y] = False  # backtrack\n",
    "\n",
    "    if y + 1 <= 2 and grid[x][y + 1] == 0 and not visited[x][y + 1]:\n",
    "        visited[x][y + 1] = True\n",
    "        find(x, y + 1, path + \"R\", grid, visited)\n",
    "        visited[x][y + 1] = False  # backtrack\n",
    "\n",
    "# Sample 3x3 grid where 0 = path, 1 = wall\n",
    "grid = [\n",
    "    [0, 0, 0],\n",
    "    [0, 1, 0],\n",
    "    [0, 0, 0]\n",
    "]\n",
    "\n",
    "# Start from (0, 0)\n",
    "visited = [[False]*3 for _ in range(3)]\n",
    "visited[0][0] = True\n",
    "find(0, 0, \"\", grid, visited)\n"
   ]
  },
  {
   "cell_type": "code",
   "execution_count": 4,
   "id": "e388bf77",
   "metadata": {},
   "outputs": [
    {
     "name": "stdout",
     "output_type": "stream",
     "text": [
      "CEO\n",
      "  CFO\n",
      "  CTO\n",
      "    QA\n",
      "    Dev\n",
      "  COO\n",
      "    OPS\n"
     ]
    }
   ],
   "source": [
    "# Node class definition\n",
    "class TreeNode:\n",
    "    def __init__(self, value):\n",
    "        self.value = value\n",
    "        self.children = []\n",
    "\n",
    "# Create nodes\n",
    "ceo = TreeNode('CEO')\n",
    "cfo = TreeNode('CFO')\n",
    "cto = TreeNode('CTO')\n",
    "coo = TreeNode('COO')\n",
    "qa = TreeNode('QA')\n",
    "dev = TreeNode('Dev')\n",
    "ops = TreeNode('OPS')\n",
    "\n",
    "# Build the tree\n",
    "ceo.children = [cfo, cto, coo]\n",
    "cto.children = [qa, dev]\n",
    "coo.children = [ops]\n",
    "\n",
    "# Traversing function (DFS)\n",
    "def traverse(node, level=0):\n",
    "    print('  ' * level + node.value)\n",
    "    for child in node.children:\n",
    "        traverse(child, level + 1)\n",
    "\n",
    "# Run traversal\n",
    "traverse(ceo)\n"
   ]
  },
  {
   "cell_type": "code",
   "execution_count": 13,
   "id": "0d87bd76",
   "metadata": {},
   "outputs": [
    {
     "ename": "TypeError",
     "evalue": "Node() takes no arguments",
     "output_type": "error",
     "traceback": [
      "\u001b[31m---------------------------------------------------------------------------\u001b[39m",
      "\u001b[31mTypeError\u001b[39m                                 Traceback (most recent call last)",
      "\u001b[36mCell\u001b[39m\u001b[36m \u001b[39m\u001b[32mIn[13]\u001b[39m\u001b[32m, line 47\u001b[39m\n\u001b[32m     45\u001b[39m root = \u001b[38;5;28;01mNone\u001b[39;00m\n\u001b[32m     46\u001b[39m \u001b[38;5;28;01mfor\u001b[39;00m v \u001b[38;5;129;01min\u001b[39;00m val:\n\u001b[32m---> \u001b[39m\u001b[32m47\u001b[39m     root = \u001b[43minsert\u001b[49m\u001b[43m(\u001b[49m\u001b[43mroot\u001b[49m\u001b[43m,\u001b[49m\u001b[43m \u001b[49m\u001b[43mv\u001b[49m\u001b[43m)\u001b[49m\n\u001b[32m     48\u001b[39m print_tree(root)\n\u001b[32m     49\u001b[39m \u001b[38;5;28mprint\u001b[39m(\u001b[33mf\u001b[39m\u001b[33m'\u001b[39m\u001b[38;5;130;01m\\n\u001b[39;00m\u001b[33m Inorder traversal \u001b[39m\u001b[38;5;130;01m\\n\u001b[39;00m\u001b[33m'\u001b[39m)\n",
      "\u001b[36mCell\u001b[39m\u001b[36m \u001b[39m\u001b[32mIn[13]\u001b[39m\u001b[32m, line 12\u001b[39m, in \u001b[36minsert\u001b[39m\u001b[34m(root, val)\u001b[39m\n\u001b[32m     10\u001b[39m \u001b[38;5;28;01mdef\u001b[39;00m\u001b[38;5;250m \u001b[39m\u001b[34minsert\u001b[39m(root, val):\n\u001b[32m     11\u001b[39m     \u001b[38;5;28;01mif\u001b[39;00m root \u001b[38;5;129;01mis\u001b[39;00m \u001b[38;5;28;01mNone\u001b[39;00m:\n\u001b[32m---> \u001b[39m\u001b[32m12\u001b[39m         \u001b[38;5;28;01mreturn\u001b[39;00m \u001b[43mNode\u001b[49m\u001b[43m(\u001b[49m\u001b[43mval\u001b[49m\u001b[43m)\u001b[49m\n\u001b[32m     13\u001b[39m     \u001b[38;5;28;01mif\u001b[39;00m val < root.val:\n\u001b[32m     14\u001b[39m         root.left = insert(root.left, val)\n",
      "\u001b[31mTypeError\u001b[39m: Node() takes no arguments"
     ]
    }
   ],
   "source": [
    "# binary tree\n",
    "\n",
    "class Node:\n",
    "    def _init_(self, val):\n",
    "        self.val = val\n",
    "        self.left = None\n",
    "        self.right = None\n",
    "\n",
    "# insertion\n",
    "def insert(root, val):\n",
    "    if root is None:\n",
    "        return Node(val)\n",
    "    if val < root.val:\n",
    "        root.left = insert(root.left, val)\n",
    "    else:\n",
    "        root.right = insert(root.right, val)\n",
    "    return root\n",
    "\n",
    "# traversal\n",
    "def inorder(root):\n",
    "    if root:\n",
    "        inorder(root.left)\n",
    "        print(root.val)\n",
    "        inorder(root.right)\n",
    "    \n",
    "def preorder(root):\n",
    "    if root:\n",
    "        print(root.val)\n",
    "        preorder(root.left)\n",
    "        preorder(root.right)\n",
    "\n",
    "def postorder(root):\n",
    "    if root:\n",
    "        postorder(root.left)\n",
    "        postorder(root.right)\n",
    "        print(root.val)\n",
    "\n",
    "def print_tree(node, level = 0):\n",
    "    if node is not None:\n",
    "        print_tree(node.right, level +1)\n",
    "        print(' ' * level, node.val)\n",
    "        print_tree(node.left, level +1)\n",
    "\n",
    "val = [20, 10, 30, 40, 25, 18, 5]\n",
    "root = None\n",
    "for v in val:\n",
    "    root = insert(root, v)\n",
    "print_tree(root)\n",
    "print(f'\\n Inorder traversal \\n')\n",
    "inorder(root)\n",
    "print(f'\\n Preorder traversal \\n')\n",
    "preorder(root)\n",
    "print(f'\\n Postorder traversal \\n')\n",
    "postorder(root)"
   ]
  },
  {
   "cell_type": "code",
   "execution_count": null,
   "id": "f4b30e8b",
   "metadata": {},
   "outputs": [
    {
     "name": "stdout",
     "output_type": "stream",
     "text": [
      "\n",
      "Number of leaf nodes:\n",
      "0\n"
     ]
    }
   ],
   "source": [
    "# Count Leaf Nodes\n",
    "def count_ln(root):\n",
    "    if not root:\n",
    "        return 0\n",
    "    if not root.left and not root.right:\n",
    "        return 1\n",
    "    return count_ln(root.left) + count_ln(root.right)\n",
    "\n",
    "print(\"\\nNumber of leaf nodes:\")\n",
    "print(count_ln(root))\n"
   ]
  },
  {
   "cell_type": "code",
   "execution_count": 1,
   "id": "551c9c2e",
   "metadata": {},
   "outputs": [
    {
     "name": "stdout",
     "output_type": "stream",
     "text": [
      "Is Balanced (Example 1): True\n",
      "Is Balanced (Example 2): False\n"
     ]
    }
   ],
   "source": [
    "# Node class for Binary Tree\n",
    "class Node:\n",
    "    def __init__(self, val):\n",
    "        self.val = val\n",
    "        self.left = None\n",
    "        self.right = None\n",
    "\n",
    "\n",
    "def is_balanced(root):\n",
    "    def check(node):\n",
    "        if not node:\n",
    "            return 0 \n",
    "        left_height = check(node.left)\n",
    "        if left_height == -1:\n",
    "            return -1 \n",
    "        right_height = check(node.right)\n",
    "        if right_height == -1:\n",
    "            return -1  # Right subtree is unbalanced\n",
    "        \n",
    "        if abs(left_height - right_height) > 1:\n",
    "            return -1  # Current node is unbalanced\n",
    "        \n",
    "        return max(left_height, right_height) + 1\n",
    "    \n",
    "    return check(root) != -1\n",
    "\n",
    "\n",
    "# Example 1: Balanced tree [3,9,20,null,null,15,7]\n",
    "root1 = Node(3)\n",
    "root1.left = Node(9)\n",
    "root1.right = Node(20)\n",
    "root1.right.left = Node(15)\n",
    "root1.right.right = Node(7)\n",
    "\n",
    "print(\"Is Balanced (Example 1):\", is_balanced(root1))  # Expected: True\n",
    "\n",
    "\n",
    "# Example 2: Unbalanced tree [1,2,2,3,3,null,null,4,4]\n",
    "root2 = Node(1)\n",
    "root2.left = Node(2)\n",
    "root2.right = Node(2)\n",
    "root2.left.left = Node(3)\n",
    "root2.left.right = Node(3)\n",
    "root2.left.left.left = Node(4)\n",
    "root2.left.left.right = Node(4)\n",
    "\n",
    "print(\"Is Balanced (Example 2):\", is_balanced(root2))  # Expected: False\n"
   ]
  }
 ],
 "metadata": {
  "kernelspec": {
   "display_name": "Python 3",
   "language": "python",
   "name": "python3"
  },
  "language_info": {
   "codemirror_mode": {
    "name": "ipython",
    "version": 3
   },
   "file_extension": ".py",
   "mimetype": "text/x-python",
   "name": "python",
   "nbconvert_exporter": "python",
   "pygments_lexer": "ipython3",
   "version": "3.13.5"
  }
 },
 "nbformat": 4,
 "nbformat_minor": 5
}
