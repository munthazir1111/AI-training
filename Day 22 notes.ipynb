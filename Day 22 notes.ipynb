{
 "cells": [
  {
   "cell_type": "code",
   "execution_count": 2,
   "id": "8590af63",
   "metadata": {},
   "outputs": [],
   "source": [
    "# . BFS – Breadth-First Search\n",
    "#Approach: Explore the graph level by level.\n",
    "\n",
    "# Data Structure Used: Queue (FIFO).\n",
    "\n",
    "\n",
    "\n",
    "# DFS – Depth-First Searchq                                                                                                                                                                                                                                                                                                                                                                                                                                                                                                                                                                                                                                                                                                                                                                                                                                                                                                                                                                                                                                                                                                                                                                                                                                                                                                                                                                                                                                                                                                                                                                                                                                                                                                                                                                                                                                                                                                                                                                                                                             \n",
    "# Approach: Go as deep as possible before backtracking.\n"
   ]
  },
  {
   "cell_type": "code",
   "execution_count": null,
   "id": "5d5a2790",
   "metadata": {},
   "outputs": [],
   "source": [
    "from collections import deque\n",
    "def bfs(root):\n",
    "    if not root:\n",
    "        return\n",
    "    q = deque()\n",
    "    q.append(root)\n",
    "    while q:\n",
    "        node = q.popleft()\n",
    "        print(node.val,end= \" \")\n",
    "        if node.left:\n",
    "            q.append(node.left)\n",
    "        if node.right:\n",
    "            q.append(node.right)"
   ]
  },
  {
   "cell_type": "code",
   "execution_count": 2,
   "id": "ba17fa24",
   "metadata": {},
   "outputs": [
    {
     "name": "stdout",
     "output_type": "stream",
     "text": [
      "124536"
     ]
    }
   ],
   "source": [
    "class Node:\n",
    "    def __init__(self, val):  # <-- Correct constructor\n",
    "        self.val = val\n",
    "        self.left = None\n",
    "        self.right = None\n",
    "\n",
    "def dfs_preorder(node):\n",
    "    if not node:\n",
    "        return\n",
    "    print(node.val, end='')       \n",
    "    dfs_preorder(node.left)       \n",
    "    dfs_preorder(node.right)      \n",
    "\n",
    "# Create the tree\n",
    "root = Node(1)\n",
    "root.left = Node(2)\n",
    "root.right = Node(3)\n",
    "root.left.left = Node(4)\n",
    "root.left.right = Node(5)\n",
    "root.right.right = Node(6)\n",
    "\n",
    "dfs_preorder(root)  # Output: 124536\n"
   ]
  },
  {
   "cell_type": "code",
   "execution_count": null,
   "id": "6099a826",
   "metadata": {},
   "outputs": [],
   "source": [
    "# Type of Graph:-----------\n",
    "\n",
    "#1 Directed : one -way roads\n",
    "#2 Undirected : two -way roads\n",
    "#3 Weighted : distance/cost attached\n",
    "#4 Unweighted\n",
    "#5 Cyclic : routes the loop back \n",
    "#6 Acyclic :no loops"
   ]
  },
  {
   "cell_type": "code",
   "execution_count": null,
   "id": "92097d69",
   "metadata": {},
   "outputs": [],
   "source": [
    "# Represent a simple city map\n",
    "# ''''''lets considerd you have 3 cities: A,B,C"
   ]
  },
  {
   "cell_type": "code",
   "execution_count": null,
   "id": "e399cdcb",
   "metadata": {},
   "outputs": [
    {
     "name": "stdout",
     "output_type": "stream",
     "text": [
      "A\n",
      "B\n",
      "D\n",
      "C\n",
      "E\n"
     ]
    }
   ],
   "source": [
    "def dfs(graph, start, visited=None):\n",
    "    if visited is None:\n",
    "        visited = set()\n",
    "    \n",
    "    print(start)\n",
    "    visited.add(start)\n",
    "    \n",
    "    for neighbor in graph[start]:\n",
    "        if neighbor not in visited:\n",
    "            dfs(graph, neighbor, visited)\n",
    "\n",
    "\n",
    "graph = {\n",
    "    'A': ['B', 'C'],\n",
    "    'B': ['D'],\n",
    "    'C': ['E'],\n",
    "    'D': [],\n",
    "    'E': []\n",
    "}\n",
    "\n",
    "\n",
    "dfs(graph, 'A')\n",
    "\n"
   ]
  },
  {
   "cell_type": "code",
   "execution_count": 2,
   "id": "75b20b4a",
   "metadata": {},
   "outputs": [
    {
     "name": "stdout",
     "output_type": "stream",
     "text": [
      "4\n"
     ]
    }
   ],
   "source": [
    "# Count Nodes in a Graph using DFS\n",
    "def count_nodes(graph, start, visited=None):\n",
    "    if visited is None:\n",
    "        visited = set()\n",
    "    visited.add(start)\n",
    "    count = 1\n",
    "    for neighbor in graph[start]:\n",
    "        if neighbor not in visited:\n",
    "            count += count_nodes(graph, neighbor, visited)\n",
    "    return count\n",
    "\n",
    "\n",
    "graph = {\n",
    "    'A': ['B', 'C'],\n",
    "    'B': ['D'],\n",
    "    'C': [],\n",
    "    'D': []\n",
    "}\n",
    "\n",
    "print(count_nodes(graph, 'A'))  "
   ]
  },
  {
   "cell_type": "code",
   "execution_count": null,
   "id": "258b70ac",
   "metadata": {},
   "outputs": [
    {
     "name": "stdout",
     "output_type": "stream",
     "text": [
      "False\n",
      "True\n"
     ]
    }
   ],
   "source": [
    "# Cycle Detection in an Undirected Graph using DFS\n",
    "def has_cycle(g):\n",
    "    visited = set()\n",
    "\n",
    "    def dfs(node, parent):\n",
    "        visited.add(node)\n",
    "        for nei in g[node]:\n",
    "            if nei not in visited:\n",
    "                if dfs(nei, node):\n",
    "                    return True\n",
    "            elif nei != parent:\n",
    "                return True\n",
    "        return False\n",
    "\n",
    "    for node in g:\n",
    "        if node not in visited:\n",
    "            if dfs(node, None):\n",
    "                return True\n",
    "    return False\n",
    "\n",
    "# Test\n",
    "graph1 = {\n",
    "    'A': ['B'],\n",
    "    'B': ['A', 'C'],\n",
    "    'C': ['B']\n",
    "}\n",
    "\n",
    "graph2 = {\n",
    "    'A': ['B'],\n",
    "    'B': ['A', 'C'],\n",
    "    'C': ['B', 'A']  # Cycle here\n",
    "}\n",
    "\n",
    "print(has_cycle(graph1))  \n",
    "print(has_cycle(graph2))  \n"
   ]
  }
 ],
 "metadata": {
  "kernelspec": {
   "display_name": "Python 3",
   "language": "python",
   "name": "python3"
  },
  "language_info": {
   "codemirror_mode": {
    "name": "ipython",
    "version": 3
   },
   "file_extension": ".py",
   "mimetype": "text/x-python",
   "name": "python",
   "nbconvert_exporter": "python",
   "pygments_lexer": "ipython3",
   "version": "3.13.5"
  }
 },
 "nbformat": 4,
 "nbformat_minor": 5
}
