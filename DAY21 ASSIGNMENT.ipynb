{
 "cells": [
  {
   "cell_type": "code",
   "execution_count": 8,
   "id": "aa3e7a69",
   "metadata": {},
   "outputs": [
    {
     "name": "stdout",
     "output_type": "stream",
     "text": [
      "Output: 5\n"
     ]
    }
   ],
   "source": [
    "# Climbing Stairs\n",
    "\n",
    "class ClimbingStairs:\n",
    "    def climbStairs(self, n: int) -> int:\n",
    "        if n <= 2:\n",
    "            return n\n",
    "        return self.climbStairs(n - 1) + self.climbStairs(n - 2)\n",
    "\n",
    "cs = ClimbingStairs()\n",
    "print(\"Output:\", cs.climbStairs(4))  # Output: 5\n"
   ]
  },
  {
   "cell_type": "code",
   "execution_count": 7,
   "id": "0bb4361d",
   "metadata": {},
   "outputs": [
    {
     "name": "stdout",
     "output_type": "stream",
     "text": [
      "Output: [['R', 'R', 'D', 'D'], ['D', 'D', 'R', 'R']]\n"
     ]
    }
   ],
   "source": [
    "# Maze Path Finder (Recursion + Backtracking)\n",
    "class MazePathFinder:\n",
    "    def findPaths(self, grid):\n",
    "        m, n = len(grid), len(grid[0])\n",
    "        result = []\n",
    "\n",
    "        def backtrack(r, c, path):\n",
    "            if r >= m or c >= n or grid[r][c] == 1:\n",
    "                return\n",
    "            if r == m - 1 and c == n - 1:\n",
    "                result.append(path[:])\n",
    "                return\n",
    "            path.append(\"R\")\n",
    "            backtrack(r, c + 1, path)\n",
    "            path.pop()\n",
    "            path.append(\"D\")\n",
    "            backtrack(r + 1, c, path)\n",
    "            path.pop()\n",
    "\n",
    "        backtrack(0, 0, [])\n",
    "        return result\n",
    "\n",
    "grid = [\n",
    "    [0, 0, 0],\n",
    "    [0, 1, 0],\n",
    "    [0, 0, 0]\n",
    "]\n",
    "mpf = MazePathFinder()\n",
    "print(\"Output:\", mpf.findPaths(grid))  # Output: All valid paths\n"
   ]
  },
  {
   "cell_type": "code",
   "execution_count": 6,
   "id": "e82117e0",
   "metadata": {},
   "outputs": [
    {
     "name": "stdout",
     "output_type": "stream",
     "text": [
      "Output: [[200, 200, 150, 150], [200, 250, 250], [250, 150, 150, 150]]\n"
     ]
    }
   ],
   "source": [
    "# Menu Combinations for Calories (Backtracking)\n",
    "\n",
    "class MenuCombinations:\n",
    "    def findCombinations(self, dishes, target):\n",
    "        result = []\n",
    "\n",
    "        def backtrack(start, path, total):\n",
    "            if total == target:\n",
    "                result.append(path[:])\n",
    "                return\n",
    "            if total > target:\n",
    "                return\n",
    "            for i in range(start, len(dishes)):\n",
    "                path.append(dishes[i])\n",
    "                backtrack(i, path, total + dishes[i])  # Can reuse same dish\n",
    "                path.pop()\n",
    "\n",
    "        backtrack(0, [], 0)\n",
    "        return result\n",
    "\n",
    "dishes = [200, 250, 150]\n",
    "target = 700\n",
    "mc = MenuCombinations()\n",
    "print(\"Output:\", mc.findCombinations(dishes, target))\n"
   ]
  },
  {
   "cell_type": "code",
   "execution_count": 5,
   "id": "9525666a",
   "metadata": {},
   "outputs": [
    {
     "name": "stdout",
     "output_type": "stream",
     "text": [
      "Output: ['ad', 'ae', 'af', 'bd', 'be', 'bf', 'cd', 'ce', 'cf']\n"
     ]
    }
   ],
   "source": [
    "# Phone Number to Words (Recursion + Backtracking)\n",
    "\n",
    "class PhoneLetterCombinations:\n",
    "    def letterCombinations(self, digits: str):\n",
    "        if not digits:\n",
    "            return []\n",
    "\n",
    "        digit_to_letters = {\n",
    "            '2': 'abc',\n",
    "            '3': 'def',\n",
    "            '4': 'ghi',\n",
    "            '5': 'jkl',\n",
    "            '6': 'mno',\n",
    "            '7': 'pqrs',\n",
    "            '8': 'tuv',\n",
    "            '9': 'wxyz',\n",
    "        }\n",
    "\n",
    "        result = []\n",
    "\n",
    "        def backtrack(index, path):\n",
    "            if index == len(digits):\n",
    "                result.append(''.join(path))\n",
    "                return\n",
    "            letters = digit_to_letters[digits[index]]\n",
    "            for ch in letters:\n",
    "                path.append(ch)\n",
    "                backtrack(index + 1, path)\n",
    "                path.pop()\n",
    "\n",
    "        backtrack(0, [])\n",
    "        return result\n",
    "\n",
    "plc = PhoneLetterCombinations()\n",
    "print(\"Output:\", plc.letterCombinations(\"23\"))\n"
   ]
  }
 ],
 "metadata": {
  "kernelspec": {
   "display_name": ".venv-1 (3.12.3)",
   "language": "python",
   "name": "python3"
  },
  "language_info": {
   "codemirror_mode": {
    "name": "ipython",
    "version": 3
   },
   "file_extension": ".py",
   "mimetype": "text/x-python",
   "name": "python",
   "nbconvert_exporter": "python",
   "pygments_lexer": "ipython3",
   "version": "3.12.3"
  }
 },
 "nbformat": 4,
 "nbformat_minor": 5
}
