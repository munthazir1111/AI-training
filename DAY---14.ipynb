{
 "cells": [
  {
   "cell_type": "code",
   "execution_count": 1,
   "id": "3e88b775",
   "metadata": {},
   "outputs": [
    {
     "name": "stdout",
     "output_type": "stream",
     "text": [
      "0.5\n"
     ]
    }
   ],
   "source": [
    "# probability - chance\n",
    "# probability of getting head while tossing a coin\n",
    "\n",
    "coin = ['head'] * 1 + ['tail'] * 1\n",
    "total_outcome = len(coin)\n",
    "\n",
    "p_head = coin.count('head') / total_outcome\n",
    "\n",
    "print(p_head)\n"
   ]
  },
  {
   "cell_type": "code",
   "execution_count": 4,
   "id": "64f3595b",
   "metadata": {},
   "outputs": [
    {
     "name": "stdout",
     "output_type": "stream",
     "text": [
      "0.75\n"
     ]
    }
   ],
   "source": [
    "# probability of getting head while tossing a 2coin\n",
    "\n",
    "total_outcome = ['hh', 'ht', 'th', 'tt']\n",
    "count = 0\n",
    "for i in total_outcome:\n",
    "    if 'h' in i:\n",
    "        count+=1\n",
    "outcome = len(total_outcome)  \n",
    "p_head = count/outcome      \n",
    "print(p_head)"
   ]
  },
  {
   "cell_type": "code",
   "execution_count": 1,
   "id": "2d2003c0",
   "metadata": {},
   "outputs": [
    {
     "name": "stdout",
     "output_type": "stream",
     "text": [
      "0.25\n",
      "0.8333333333333334\n"
     ]
    }
   ],
   "source": [
    "# p(A/B) = p(A intersection B)/p(B)\n",
    "\n",
    "Total = 100\n",
    "sunny = 40\n",
    "rainy = 60\n",
    "umberlla_sunny=10\n",
    "umberlla_rainy=50\n",
    "\n",
    "# conditional probability\n",
    "p_umberlla_given_sunny = umberlla_sunny/sunny\n",
    "p_umberlla_given_rainy = umberlla_rainy/rainy\n",
    "\n",
    "print(p_umberlla_given_sunny)\n",
    "print(p_umberlla_given_rainy) \n",
    "\n"
   ]
  },
  {
   "cell_type": "code",
   "execution_count": 1,
   "id": "3fcceae5",
   "metadata": {},
   "outputs": [
    {
     "name": "stdout",
     "output_type": "stream",
     "text": [
      "0.75\n"
     ]
    }
   ],
   "source": [
    "total = 100\n",
    "mon_attendance = 80\n",
    "both = 60\n",
    "\n",
    "p_thuesday_given_monday = both/mon_attendance\n",
    "print(p_thuesday_given_monday)"
   ]
  },
  {
   "cell_type": "code",
   "execution_count": 6,
   "id": "30113532",
   "metadata": {},
   "outputs": [
    {
     "name": "stdout",
     "output_type": "stream",
     "text": [
      "0.75\n",
      "22.5\n"
     ]
    }
   ],
   "source": [
    "total = 100\n",
    "mon_attendance = 80\n",
    "mon_thu = 60\n",
    "mon_thu_wen =30\n",
    "p_thuesday_given_monday = mon_thu/mon_attendance\n",
    "p_thuesday_given_wensday = mon_thu_wen *p_thuesday_given_monday\n",
    "print(p_thuesday_given_monday)\n",
    "print(p_thuesday_given_wensday)\n"
   ]
  },
  {
   "cell_type": "code",
   "execution_count": 4,
   "id": "1da228c4",
   "metadata": {},
   "outputs": [
    {
     "name": "stdout",
     "output_type": "stream",
     "text": [
      "0.75\n"
     ]
    }
   ],
   "source": [
    "# bayer's theorem -> p(A/B) = p(B/A) * p(A) / p(B)\n",
    "\n",
    "# 100 mails - 40 spam, 60 non-spam\n",
    "\n",
    "spam = 40\n",
    "non_spam = 60\n",
    "\n",
    "# likehihood - keyword 'won' found in both spam & non_spam\n",
    "win_given_spam = 30 / 40\n",
    "win_given_not_spam = 10 / 60\n",
    "\n",
    "# total probability of getting 'won' keyword\n",
    "p_win = (win_given_spam * spam) + (win_given_not_spam * non_spam)\n",
    "\n",
    "# bayer's formula\n",
    "spam_given_win = (win_given_spam * spam) / p_win\n",
    "print(spam_given_win)"
   ]
  },
  {
   "cell_type": "code",
   "execution_count": 5,
   "id": "ea4c197c",
   "metadata": {},
   "outputs": [
    {
     "name": "stdout",
     "output_type": "stream",
     "text": [
      "Probability that an email is spam given it contains 'win': 0.7500\n"
     ]
    }
   ],
   "source": [
    "# Frequency values\n",
    "spam = 40\n",
    "not_spam = 60\n",
    "total = spam + not_spam\n",
    "\n",
    "# Priors\n",
    "p_spam = spam / total          # 0.4\n",
    "p_not_spam = not_spam / total  # 0.6\n",
    "\n",
    "# Likelihoods (\"win\" word found in both spam and not spam)\n",
    "p_win_given_spam = 30 / spam       # 30 out of 40 spam mails contain \"win\"\n",
    "p_win_given_not_spam = 10 / not_spam  # 10 out of 60 non-spam mails contain \"win\"\n",
    "\n",
    "# Total probability of word \"win\" appearing\n",
    "p_win = (p_win_given_spam * p_spam) + (p_win_given_not_spam * p_not_spam)\n",
    "\n",
    "# Bayes’ formula: P(Spam | Win)\n",
    "p_spam_given_win = (p_win_given_spam * p_spam) / p_win\n",
    "\n",
    "# Output\n",
    "print(f\"Probability that an email is spam given it contains 'win': {p_spam_given_win:.4f}\")\n"
   ]
  },
  {
   "cell_type": "code",
   "execution_count": 7,
   "id": "fcbba9af",
   "metadata": {},
   "outputs": [
    {
     "name": "stdout",
     "output_type": "stream",
     "text": [
      "0.4000000000000001\n"
     ]
    }
   ],
   "source": [
    "\n",
    "#P(Rain) = 0.2 (20% chance it rains)\n",
    "#P(No Rain) = 1 P(Rain) = 0.8\n",
    "#P(Cloudy | Rain) = 0.8 (if it rains, there's 80% chance it's cloudy)\n",
    "#P(Cloudy | No Rain) = 0.3 (if it doesn't rain, there's 30% chance it'\n",
    "#p(Rain/cloudy)? bayes theorem\n",
    "\n",
    "# Given probabilities\n",
    "p_rain = 0.2\n",
    "p_no_rain = 1 - p_rain  # 0.8\n",
    "\n",
    "p_cloudy_given_rain = 0.8\n",
    "p_cloudy_given_no_rain = 0.3\n",
    "\n",
    "# Total probability of Cloudy (using Law of Total Probability)\n",
    "p_cloudy = (p_cloudy_given_rain * p_rain) + (p_cloudy_given_no_rain * p_no_rain)\n",
    "\n",
    "# Bayes' Theorem: P(Rain | Cloudy)\n",
    "p_rain_given_cloudy = (p_cloudy_given_rain * p_rain) / p_cloudy\n",
    "\n",
    "print(p_rain_given_cloudy)\n",
    "\n",
    "\n",
    "\n",
    "\n",
    "\n"
   ]
  },
  {
   "cell_type": "code",
   "execution_count": 8,
   "id": "bc4708b7",
   "metadata": {},
   "outputs": [
    {
     "name": "stdout",
     "output_type": "stream",
     "text": [
      "0.1\n"
     ]
    }
   ],
   "source": [
    "outcomes = []\n",
    "six_count = 0\n",
    "for i in range(1, 6001):\n",
    "    outcomes.append(i)\n",
    "    if i % 10 == 6:\n",
    "        six_count += 1\n",
    "total_outcome = len(outcomes)\n",
    "p_six = six_count / total_outcome\n",
    "print(p_six)"
   ]
  },
  {
   "cell_type": "code",
   "execution_count": null,
   "id": "99ddc12f",
   "metadata": {},
   "outputs": [],
   "source": []
  }
 ],
 "metadata": {
  "kernelspec": {
   "display_name": "Python 3",
   "language": "python",
   "name": "python3"
  },
  "language_info": {
   "codemirror_mode": {
    "name": "ipython",
    "version": 3
   },
   "file_extension": ".py",
   "mimetype": "text/x-python",
   "name": "python",
   "nbconvert_exporter": "python",
   "pygments_lexer": "ipython3",
   "version": "3.13.5"
  }
 },
 "nbformat": 4,
 "nbformat_minor": 5
}
