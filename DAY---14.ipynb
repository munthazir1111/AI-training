{
 "cells": [
  {
   "cell_type": "code",
   "execution_count": 1,
   "id": "3e88b775",
   "metadata": {},
   "outputs": [
    {
     "name": "stdout",
     "output_type": "stream",
     "text": [
      "0.5\n"
     ]
    }
   ],
   "source": [
    "# probability - chance\n",
    "# probability of getting head while tossing a coin\n",
    "\n",
    "coin = ['head'] * 1 + ['tail'] * 1\n",
    "total_outcome = len(coin)\n",
    "\n",
    "p_head = coin.count('head') / total_outcome\n",
    "\n",
    "print(p_head)\n"
   ]
  },
  {
   "cell_type": "code",
   "execution_count": 4,
   "id": "64f3595b",
   "metadata": {},
   "outputs": [
    {
     "name": "stdout",
     "output_type": "stream",
     "text": [
      "0.75\n"
     ]
    }
   ],
   "source": [
    "# probability of getting head while tossing a 2coin\n",
    "\n",
    "total_outcome = ['hh', 'ht', 'th', 'tt']\n",
    "count = 0\n",
    "for i in total_outcome:\n",
    "    if 'h' in i:\n",
    "        count+=1\n",
    "outcome = len(total_outcome)  \n",
    "p_head = count/outcome      \n",
    "print(p_head)"
   ]
  },
  {
   "cell_type": "code",
   "execution_count": null,
   "id": "5052c686",
   "metadata": {},
   "outputs": [],
   "source": [
    "basket = ['apple']*3 +['orange']*2 + ['bananna']"
   ]
  },
  {
   "cell_type": "code",
   "execution_count": null,
   "id": "2d2003c0",
   "metadata": {},
   "outputs": [],
   "source": []
  }
 ],
 "metadata": {
  "kernelspec": {
   "display_name": "Python 3",
   "language": "python",
   "name": "python3"
  },
  "language_info": {
   "codemirror_mode": {
    "name": "ipython",
    "version": 3
   },
   "file_extension": ".py",
   "mimetype": "text/x-python",
   "name": "python",
   "nbconvert_exporter": "python",
   "pygments_lexer": "ipython3",
   "version": "3.13.5"
  }
 },
 "nbformat": 4,
 "nbformat_minor": 5
}
