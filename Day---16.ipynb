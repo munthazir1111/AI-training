{
 "cells": [
  {
   "cell_type": "code",
   "execution_count": null,
   "id": "7e897c81",
   "metadata": {},
   "outputs": [],
   "source": [
    "# Array-\n",
    "# [78,90,67,\"anu\",\"bhai\",\"true\"]--list\n",
    "\n",
    "\n",
    "# similar data types - Arrays\n",
    "# find the second large number\n",
    "# arr-[20,5,8,10]- output is 10\n",
    "\n",
    "arr []=[2,5,8,10]\n",
    "\n"
   ]
  },
  {
   "cell_type": "code",
   "execution_count": null,
   "id": "711448b6",
   "metadata": {},
   "outputs": [],
   "source": []
  }
 ],
 "metadata": {
  "language_info": {
   "name": "python"
  }
 },
 "nbformat": 4,
 "nbformat_minor": 5
}
