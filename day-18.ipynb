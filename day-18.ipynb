{
 "cells": [
  {
   "cell_type": "code",
   "execution_count": 1,
   "id": "335872d0",
   "metadata": {},
   "outputs": [],
   "source": [
    "# Syllabus covered:\n",
    "\n",
    "# 1. deep copy, shallow copy, comments, casting, indentation, variables.\n",
    "# 2. operators, conditional statements, functions, for loop.\n",
    "# 3. while loop, arguments, parameters.\n",
    "# 4. list, tuple, set & their methods.\n",
    "# 5. dictionary.\n",
    "# 6. file handling.\n",
    "# 7. exception handling, OOPS (class, object).\n",
    "# 8. inheritance.\n",
    "# 9. encapsulation, polymorphism, abstraction.\n",
    "# 10. dunder methods.\n",
    "# 11. threads.\n",
    "# 12. foundations of AI.\n",
    "# 13. mathematical foundations - linear algebra.\n",
    "# 14. probability - bayes theorem, conditional probability.\n",
    "# 15. probability distribution.\n",
    "# 16. array.\n",
    "# 17. project presentation.\n",
    "# 18. strings, substrings.\n",
    "# 19. hashing"
   ]
  },
  {
   "cell_type": "code",
   "execution_count": null,
   "id": "7ce7341e",
   "metadata": {},
   "outputs": [],
   "source": []
  }
 ],
 "metadata": {
  "kernelspec": {
   "display_name": "Python 3",
   "language": "python",
   "name": "python3"
  },
  "language_info": {
   "codemirror_mode": {
    "name": "ipython",
    "version": 3
   },
   "file_extension": ".py",
   "mimetype": "text/x-python",
   "name": "python",
   "nbconvert_exporter": "python",
   "pygments_lexer": "ipython3",
   "version": "3.13.5"
  }
 },
 "nbformat": 4,
 "nbformat_minor": 5
}
