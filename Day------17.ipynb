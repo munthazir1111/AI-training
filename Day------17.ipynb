{
 "cells": [
  {
   "cell_type": "code",
   "execution_count": 1,
   "id": "84b40ef2",
   "metadata": {},
   "outputs": [
    {
     "name": "stdout",
     "output_type": "stream",
     "text": [
      "a\n",
      "ab\n",
      "abc\n",
      "b\n",
      "bc\n",
      "c\n"
     ]
    }
   ],
   "source": [
    "s = \"abc\"\n",
    "n = len(s)\n",
    "\n",
    "for i in range(n):\n",
    "    for j in range(i + 1, n + 1):\n",
    "        print(s[i:j])\n"
   ]
  },
  {
   "cell_type": "code",
   "execution_count": 2,
   "id": "24d1ed0c",
   "metadata": {},
   "outputs": [],
   "source": [
    "# sliding window\n",
    "# prefix \n",
    "# Rolling  hash"
   ]
  },
  {
   "cell_type": "code",
   "execution_count": 6,
   "id": "81b01e87",
   "metadata": {},
   "outputs": [
    {
     "name": "stdout",
     "output_type": "stream",
     "text": [
      "3\n"
     ]
    }
   ],
   "source": [
    "#Longest substring without repeating\n",
    "#Input \"abcabcbb\"\n",
    "\n",
    "\n",
    "def longest_unique_substring(s):\n",
    "    n = len(s)\n",
    "    max_len = 0\n",
    "\n",
    "    for i in range(n):\n",
    "        seen = set()\n",
    "        for j in range(i, n):\n",
    "            if s[j] in seen:\n",
    "                break\n",
    "            seen.add(s[j])\n",
    "            max_len = max(max_len, j - i + 1)\n",
    "\n",
    "    return max_len\n",
    "\n",
    "# Example usage\n",
    "print(longest_unique_substring(\"abcabcbb\"))  # Output: 3\n"
   ]
  }
 ],
 "metadata": {
  "kernelspec": {
   "display_name": "Python 3",
   "language": "python",
   "name": "python3"
  },
  "language_info": {
   "codemirror_mode": {
    "name": "ipython",
    "version": 3
   },
   "file_extension": ".py",
   "mimetype": "text/x-python",
   "name": "python",
   "nbconvert_exporter": "python",
   "pygments_lexer": "ipython3",
   "version": "3.13.5"
  }
 },
 "nbformat": 4,
 "nbformat_minor": 5
}
