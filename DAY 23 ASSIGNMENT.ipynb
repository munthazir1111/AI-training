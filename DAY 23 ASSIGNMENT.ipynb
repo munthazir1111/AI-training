{
 "cells": [
  {
   "cell_type": "code",
   "execution_count": 1,
   "id": "aa3e7a69",
   "metadata": {},
   "outputs": [
    {
     "name": "stdout",
     "output_type": "stream",
     "text": [
      "Level Order Traversal:\n",
      "CEO\n",
      "Manager1\n",
      "Manager2\n",
      "Employee1\n",
      "Employee2\n"
     ]
    }
   ],
   "source": [
    "# Organizational Hierarchy (Binary Tree Representation)\n",
    "\n",
    "class Employee:\n",
    "    def __init__(self, name):\n",
    "        self.name = name\n",
    "        self.left = None   # First subordinate\n",
    "        self.right = None  # Second subordinate\n",
    "\n",
    "# Constructing the hierarchy\n",
    "CEO = Employee(\"CEO\")\n",
    "Manager1 = Employee(\"Manager1\")\n",
    "Manager2 = Employee(\"Manager2\")\n",
    "Employee1 = Employee(\"Employee1\")\n",
    "Employee2 = Employee(\"Employee2\")\n",
    "\n",
    "CEO.left = Manager1\n",
    "CEO.right = Manager2\n",
    "Manager1.left = Employee1\n",
    "Manager2.right = Employee2\n",
    "\n",
    "# Level-order Traversal (for email sending or chart generation)\n",
    "from collections import deque\n",
    "\n",
    "def level_order(root):\n",
    "    if not root:\n",
    "        return\n",
    "    queue = deque([root])\n",
    "    while queue:\n",
    "        current = queue.popleft()\n",
    "        print(current.name)\n",
    "        if current.left:\n",
    "            queue.append(current.left)\n",
    "        if current.right:\n",
    "            queue.append(current.right)\n",
    "\n",
    "print(\"Level Order Traversal:\")\n",
    "level_order(CEO)\n"
   ]
  },
  {
   "cell_type": "code",
   "execution_count": 2,
   "id": "0bb4361d",
   "metadata": {},
   "outputs": [
    {
     "name": "stdout",
     "output_type": "stream",
     "text": [
      "\n",
      "Match Path to Final (Post-Order):\n",
      "Q1\n",
      "Q2\n",
      "Semi1\n",
      "Q3\n",
      "Q4\n",
      "Semi2\n",
      "Final\n"
     ]
    }
   ],
   "source": [
    "# Tournament Bracket System (Binary Tree Representation)\n",
    "\n",
    "class Match:\n",
    "    def __init__(self, name):\n",
    "        self.name = name\n",
    "        self.left = None   # Left player/match\n",
    "        self.right = None  # Right player/match\n",
    "\n",
    "# Construct the bracket\n",
    "Final = Match(\"Final\")\n",
    "Semi1 = Match(\"Semi1\")\n",
    "Semi2 = Match(\"Semi2\")\n",
    "Q1 = Match(\"Q1\")\n",
    "Q2 = Match(\"Q2\")\n",
    "Q3 = Match(\"Q3\")\n",
    "Q4 = Match(\"Q4\")\n",
    "\n",
    "Final.left = Semi1\n",
    "Final.right = Semi2\n",
    "Semi1.left = Q1\n",
    "Semi1.right = Q2\n",
    "Semi2.left = Q3\n",
    "Semi2.right = Q4\n",
    "\n",
    "# Post-order Traversal to determine winner path\n",
    "def post_order(root):\n",
    "    if root:\n",
    "        post_order(root.left)\n",
    "        post_order(root.right)\n",
    "        print(root.name)\n",
    "\n",
    "print(\"\\nMatch Path to Final (Post-Order):\")\n",
    "post_order(Final)\n"
   ]
  },
  {
   "cell_type": "code",
   "execution_count": 3,
   "id": "e82117e0",
   "metadata": {},
   "outputs": [
    {
     "name": "stdout",
     "output_type": "stream",
     "text": [
      "\n",
      "Expression Result:\n",
      "8\n"
     ]
    }
   ],
   "source": [
    "# Expression Evaluation using Binary Expression Tree\n",
    "\n",
    "class ExprNode:\n",
    "    def __init__(self, value):\n",
    "        self.value = value\n",
    "        self.left = None\n",
    "        self.right = None\n",
    "\n",
    "# Build tree for expression: (3 + 5) * (2 - 1)\n",
    "root = ExprNode(\"*\")\n",
    "root.left = ExprNode(\"+\")\n",
    "root.right = ExprNode(\"-\")\n",
    "root.left.left = ExprNode(\"3\")\n",
    "root.left.right = ExprNode(\"5\")\n",
    "root.right.left = ExprNode(\"2\")\n",
    "root.right.right = ExprNode(\"1\")\n",
    "\n",
    "# Post-order traversal for evaluation\n",
    "def evaluate(node):\n",
    "    if node.value.isdigit():\n",
    "        return int(node.value)\n",
    "    left_val = evaluate(node.left)\n",
    "    right_val = evaluate(node.right)\n",
    "    if node.value == '+':\n",
    "        return left_val + right_val\n",
    "    elif node.value == '-':\n",
    "        return left_val - right_val\n",
    "    elif node.value == '*':\n",
    "        return left_val * right_val\n",
    "    elif node.value == '/':\n",
    "        return left_val / right_val\n",
    "\n",
    "print(\"\\nExpression Result:\")\n",
    "print(evaluate(root))  # Output: (3 + 5) * (2 - 1) = 8\n"
   ]
  }
 ],
 "metadata": {
  "kernelspec": {
   "display_name": ".venv-1 (3.12.3)",
   "language": "python",
   "name": "python3"
  },
  "language_info": {
   "codemirror_mode": {
    "name": "ipython",
    "version": 3
   },
   "file_extension": ".py",
   "mimetype": "text/x-python",
   "name": "python",
   "nbconvert_exporter": "python",
   "pygments_lexer": "ipython3",
   "version": "3.12.3"
  }
 },
 "nbformat": 4,
 "nbformat_minor": 5
}
