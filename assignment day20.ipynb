{
 "cells": [
  {
   "cell_type": "code",
   "execution_count": 1,
   "id": "aa3e7a69",
   "metadata": {},
   "outputs": [
    {
     "name": "stdout",
     "output_type": "stream",
     "text": [
      "Alice\n",
      "False\n"
     ]
    }
   ],
   "source": [
    "# Q1. Bank Token System (Queue Problem)\n",
    "# Implement a BankQueue class with:\n",
    "# - add_customer(name)\n",
    "# - serve_customer() – returns the name of the next customer\n",
    "# - is_empty()\n",
    "# Hint: Use a queue (FIFO) to manage customers.\n",
    "\n",
    "from collections import deque\n",
    "\n",
    "class BankQueue:\n",
    "    def __init__(self):\n",
    "        self.queue = deque()\n",
    "    \n",
    "    def add_customer(self, name):\n",
    "        self.queue.append(name)\n",
    "    \n",
    "    def serve_customer(self):\n",
    "        if not self.is_empty():\n",
    "            return self.queue.popleft()\n",
    "        return \"No customers\"\n",
    "    \n",
    "    def is_empty(self):\n",
    "        return len(self.queue) == 0\n",
    "\n",
    "# Example usage\n",
    "bq = BankQueue()\n",
    "bq.add_customer(\"Alice\")\n",
    "bq.add_customer(\"Bob\")\n",
    "print(bq.serve_customer())  # Output: Alice\n",
    "print(bq.is_empty())        # Output: False\n"
   ]
  },
  {
   "cell_type": "code",
   "execution_count": 2,
   "id": "0bb4361d",
   "metadata": {},
   "outputs": [
    {
     "name": "stdout",
     "output_type": "stream",
     "text": [
      "16\n"
     ]
    }
   ],
   "source": [
    "# Q2. Evaluate Postfix Expression (Stack)\n",
    "# Write a function evaluate_postfix(expr: str) that returns the result of a postfix expression.\n",
    "# Example: \"5 3 + 2 *\" → (5 + 3) * 2 = 16\n",
    "# Hint: Use a stack. Push numbers, pop 2 on operator, compute and push result.\n",
    "\n",
    "def evaluate_postfix(expr: str) -> int:\n",
    "    stack = []\n",
    "    tokens = expr.split()\n",
    "\n",
    "    for token in tokens:\n",
    "        if token.isdigit():\n",
    "            stack.append(int(token))\n",
    "        else:\n",
    "            b = stack.pop()\n",
    "            a = stack.pop()\n",
    "            if token == '+':\n",
    "                stack.append(a + b)\n",
    "            elif token == '-':\n",
    "                stack.append(a - b)\n",
    "            elif token == '*':\n",
    "                stack.append(a * b)\n",
    "            elif token == '/':\n",
    "                stack.append(int(a / b))  # Use int() for integer division\n",
    "\n",
    "    return stack[0]\n",
    "\n",
    "# Example usage\n",
    "print(evaluate_postfix(\"5 3 + 2 *\"))  # Output: 16\n"
   ]
  },
  {
   "cell_type": "code",
   "execution_count": 3,
   "id": "e82117e0",
   "metadata": {},
   "outputs": [
    {
     "name": "stdout",
     "output_type": "stream",
     "text": [
      "Patient B\n"
     ]
    }
   ],
   "source": [
    "# Q3. Emergency Room Priority (Deque)\n",
    "# Create EmergencyRoom class with:\n",
    "# - add_patient(name, critical=False): critical patients go to front\n",
    "# - see_patient(): returns the next patient to be treated\n",
    "# Hint: Use a deque. Add critical patients with appendleft().\n",
    "\n",
    "from collections import deque\n",
    "\n",
    "class EmergencyRoom:\n",
    "    def __init__(self):\n",
    "        self.patients = deque()\n",
    "\n",
    "    def add_patient(self, name, critical=False):\n",
    "        if critical:\n",
    "            self.patients.appendleft(name)\n",
    "        else:\n",
    "            self.patients.append(name)\n",
    "\n",
    "    def see_patient(self):\n",
    "        if self.patients:\n",
    "            return self.patients.popleft()\n",
    "        return \"No patients\"\n",
    "\n",
    "# Example usage\n",
    "er = EmergencyRoom()\n",
    "er.add_patient(\"Patient A\")\n",
    "er.add_patient(\"Patient B\", critical=True)\n",
    "print(er.see_patient())  # Output: Patient B\n"
   ]
  },
  {
   "cell_type": "code",
   "execution_count": 4,
   "id": "9525666a",
   "metadata": {},
   "outputs": [
    {
     "name": "stdout",
     "output_type": "stream",
     "text": [
      "[30, 40, 40, 40, 50]\n"
     ]
    }
   ],
   "source": [
    "# Q4. Sliding Window Maximum (Deque Problem)\n",
    "# Given a list of temperatures and a window size k, return a list of maximums in each window.\n",
    "# Example: temps = [30, 25, 27, 40, 35, 28, 50], k = 3 → Output: [30, 40, 40, 40, 50]\n",
    "# Hint: Use a deque to keep track of max elements in each window.\n",
    "\n",
    "from collections import deque\n",
    "\n",
    "def sliding_window_max(temps, k):\n",
    "    dq = deque()\n",
    "    result = []\n",
    "\n",
    "    for i, temp in enumerate(temps):\n",
    "        # Remove indices out of the current window\n",
    "        while dq and dq[0] <= i - k:\n",
    "            dq.popleft()\n",
    "        # Remove smaller elements from the deque\n",
    "        while dq and temps[dq[-1]] < temp:\n",
    "            dq.pop()\n",
    "        dq.append(i)\n",
    "        # Add to result when we have the first full window\n",
    "        if i >= k - 1:\n",
    "            result.append(temps[dq[0]])\n",
    "    return result\n",
    "\n",
    "# Example usage\n",
    "temps = [30, 25, 27, 40, 35, 28, 50]\n",
    "k = 3\n",
    "print(sliding_window_max(temps, k))  # Output: [30, 40, 40, 40, 50]\n"
   ]
  },
  {
   "cell_type": "code",
   "execution_count": null,
   "id": "44224366",
   "metadata": {},
   "outputs": [],
   "source": [
    "# "
   ]
  }
 ],
 "metadata": {
  "kernelspec": {
   "display_name": ".venv-1 (3.12.3)",
   "language": "python",
   "name": "python3"
  },
  "language_info": {
   "codemirror_mode": {
    "name": "ipython",
    "version": 3
   },
   "file_extension": ".py",
   "mimetype": "text/x-python",
   "name": "python",
   "nbconvert_exporter": "python",
   "pygments_lexer": "ipython3",
   "version": "3.12.3"
  }
 },
 "nbformat": 4,
 "nbformat_minor": 5
}
