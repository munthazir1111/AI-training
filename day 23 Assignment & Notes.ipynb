{
 "cells": [
  {
   "cell_type": "code",
   "execution_count": 1,
   "id": "d357ead8",
   "metadata": {},
   "outputs": [
    {
     "name": "stdout",
     "output_type": "stream",
     "text": [
      "Recommended Movies: {'The Matrix', 'Avengers', 'Interstellar'}\n"
     ]
    }
   ],
   "source": [
    "# 1. Movie Recommendation using Sets\n",
    "def recommend_movies(user_movies, friends_movies):\n",
    "    user_set = set(user_movies)\n",
    "    friends_set = set().union(*friends_movies)\n",
    "    return friends_set - user_set\n",
    "\n",
    "# Example\n",
    "user_movies = [\"Inception\", \"Titanic\", \"Avatar\"]\n",
    "friends_movies = [\n",
    "    [\"Avatar\", \"Interstellar\", \"The Matrix\"],\n",
    "    [\"Titanic\", \"The Matrix\", \"Avengers\"]\n",
    "]\n",
    "print(\"Recommended Movies:\", recommend_movies(user_movies, friends_movies))\n"
   ]
  },
  {
   "cell_type": "code",
   "execution_count": 2,
   "id": "8d365d33",
   "metadata": {},
   "outputs": [],
   "source": [
    "\n",
    "# 2. ATM Transaction Simulation\n",
    "def atm():\n",
    "    balance = 1000\n",
    "    while True:\n",
    "        print(\"\\n1. Withdraw\\n2. Deposit\\n3. Exit\")\n",
    "        choice = input(\"Enter choice: \")\n",
    "        try:\n",
    "            if choice == \"1\":\n",
    "                amount = float(input(\"Enter amount to withdraw: \"))\n",
    "                if amount > balance:\n",
    "                    raise ValueError(\"Insufficient balance!\")\n",
    "                balance -= amount\n",
    "                print(\"Balance:\", balance)\n",
    "            elif choice == \"2\":\n",
    "                amount = float(input(\"Enter amount to deposit: \"))\n",
    "                balance += amount\n",
    "                print(\"Balance:\", balance)\n",
    "            elif choice == \"3\":\n",
    "                print(\"Exiting ATM...\")\n",
    "                break\n",
    "            else:\n",
    "                print(\"Invalid choice!\")\n",
    "        except ValueError as e:\n",
    "            print(e)\n",
    "\n",
    "# atm()  # Uncomment to run interactively\n"
   ]
  },
  {
   "cell_type": "code",
   "execution_count": 3,
   "id": "cb84ae80",
   "metadata": {},
   "outputs": [
    {
     "name": "stdout",
     "output_type": "stream",
     "text": [
      "Order 3 delivered in 2 seconds\n",
      "Order 1 delivered in 3 seconds\n",
      "Order 2 delivered in 5 seconds\n"
     ]
    }
   ],
   "source": [
    "# 3. Food Delivery ETA using Threading\n",
    "import threading\n",
    "import time\n",
    "\n",
    "def deliver_order(order_id, delivery_time):\n",
    "    time.sleep(delivery_time)\n",
    "    print(f\"Order {order_id} delivered in {delivery_time} seconds\")\n",
    "\n",
    "threads = []\n",
    "orders = [(1, 3), (2, 5), (3, 2)]\n",
    "for order_id, delivery_time in orders:\n",
    "    t = threading.Thread(target=deliver_order, args=(order_id, delivery_time))\n",
    "    threads.append(t)\n",
    "    t.start()\n",
    "\n",
    "for t in threads:\n",
    "    t.join()\n",
    "\n"
   ]
  },
  {
   "cell_type": "code",
   "execution_count": 4,
   "id": "5c24b7da",
   "metadata": {},
   "outputs": [
    {
     "name": "stdout",
     "output_type": "stream",
     "text": [
      "Student: John, Average: 60.0, Status: Pass\n"
     ]
    }
   ],
   "source": [
    "# 4. Student Report Card Generator (OOP)\n",
    "from abc import ABC, abstractmethod\n",
    "\n",
    "class Person:\n",
    "    def __init__(self, name):\n",
    "        self.name = name\n",
    "\n",
    "class Student(Person, ABC):\n",
    "    def __init__(self, name, marks):\n",
    "        super().__init__(name)\n",
    "        self.__marks = marks\n",
    "\n",
    "    @abstractmethod\n",
    "    def report_card(self):\n",
    "        pass\n",
    "\n",
    "    def get_marks(self):\n",
    "        return self.__marks\n",
    "\n",
    "class MyStudent(Student):\n",
    "    def report_card(self):\n",
    "        avg = sum(self.get_marks()) / len(self.get_marks())\n",
    "        status = \"Pass\" if avg >= 40 else \"Fail\"\n",
    "        return f\"Student: {self.name}, Average: {avg}, Status: {status}\"\n",
    "\n",
    "s = MyStudent(\"John\", [50, 60, 70])\n",
    "print(s.report_card())\n",
    "\n",
    "\n"
   ]
  },
  {
   "cell_type": "code",
   "execution_count": 5,
   "id": "db9d67b6",
   "metadata": {},
   "outputs": [
    {
     "name": "stdout",
     "output_type": "stream",
     "text": [
      "Total Price: 600\n",
      "True\n"
     ]
    }
   ],
   "source": [
    "# 5. Ecommerce Cart using Dunder Methods\n",
    "class Cart:\n",
    "    def __init__(self, items):\n",
    "        self.items = items\n",
    "\n",
    "    def __add__(self, other):\n",
    "        return Cart(self.items + other.items)\n",
    "\n",
    "    def __str__(self):\n",
    "        total = sum(price for _, price in self.items)\n",
    "        return f\"Total Price: {total}\"\n",
    "\n",
    "    def __eq__(self, other):\n",
    "        return sum(price for _, price in self.items) == sum(price for _, price in other.items)\n",
    "\n",
    "cart1 = Cart([(\"item1\", 100), (\"item2\", 200)])\n",
    "cart2 = Cart([(\"item3\", 150), (\"item4\", 150)])\n",
    "cart3 = cart1 + cart2\n",
    "print(cart3)\n",
    "print(cart1 == cart2)\n",
    "\n",
    "\n"
   ]
  },
  {
   "cell_type": "code",
   "execution_count": 6,
   "id": "27f3c61d",
   "metadata": {},
   "outputs": [],
   "source": [
    "# 6. Chat Log Analyzer\n",
    "def analyze_chat(file_path, keyword=\"urgent\"):\n",
    "    with open(file_path, \"r\") as f:\n",
    "        messages = f.readlines()\n",
    "    total = len(messages)\n",
    "    urgent_msgs = [msg for msg in messages if keyword.lower() in msg.lower()]\n",
    "    return total, urgent_msgs\n",
    "\n",
    "# Example usage (requires a chat log file)\n",
    "# total, urgent = analyze_chat(\"chat.txt\")\n",
    "# print(\"Total messages:\", total)\n",
    "# print(\"Urgent messages:\", urgent)\n",
    "\n",
    "\n"
   ]
  },
  {
   "cell_type": "code",
   "execution_count": 7,
   "id": "2371ed53",
   "metadata": {},
   "outputs": [
    {
     "name": "stdout",
     "output_type": "stream",
     "text": [
      "True\n"
     ]
    }
   ],
   "source": [
    "# 7. Spam Email Classifier using Hashing\n",
    "import hashlib\n",
    "\n",
    "spam_words = [\"free\", \"money\", \"win\"]\n",
    "spam_hashes = {hashlib.md5(word.encode()).hexdigest() for word in spam_words}\n",
    "\n",
    "def is_spam(message):\n",
    "    words = message.lower().split()\n",
    "    for word in words:\n",
    "        if hashlib.md5(word.encode()).hexdigest() in spam_hashes:\n",
    "            return True\n",
    "    return False\n",
    "\n",
    "print(is_spam(\"You can win a free trip\"))\n",
    "\n",
    "\n"
   ]
  },
  {
   "cell_type": "code",
   "execution_count": 8,
   "id": "3bd6610f",
   "metadata": {},
   "outputs": [
    {
     "name": "stdout",
     "output_type": "stream",
     "text": [
      "Red\n",
      "Green\n",
      "Yellow\n",
      "Red\n",
      "Green\n",
      "Yellow\n",
      "Red\n",
      "Green\n",
      "Yellow\n",
      "Red\n"
     ]
    }
   ],
   "source": [
    "# 8. Traffic Light Controller using Queue\n",
    "from collections import deque\n",
    "\n",
    "def traffic_light(cycles=10):\n",
    "    lights = deque([\"Red\", \"Green\", \"Yellow\"])\n",
    "    for _ in range(cycles):\n",
    "        current = lights[0]\n",
    "        print(current)\n",
    "        lights.rotate(-1)\n",
    "\n",
    "traffic_light()\n",
    "\n",
    "\n"
   ]
  },
  {
   "cell_type": "code",
   "execution_count": 9,
   "id": "c48c2b85",
   "metadata": {},
   "outputs": [
    {
     "name": "stdout",
     "output_type": "stream",
     "text": [
      "['up', 'up', 'down']\n"
     ]
    }
   ],
   "source": [
    "# 9. Robot Path in a Grid using Stack\n",
    "def robot_path(commands):\n",
    "    stack = []\n",
    "    for cmd in commands:\n",
    "        if cmd == \"undo\" and stack:\n",
    "            stack.pop()\n",
    "        else:\n",
    "            stack.append(cmd)\n",
    "    return stack\n",
    "\n",
    "print(robot_path([\"up\", \"up\", \"left\", \"undo\", \"down\"]))\n",
    "\n",
    "\n"
   ]
  },
  {
   "cell_type": "code",
   "execution_count": 10,
   "id": "85ded9e2",
   "metadata": {},
   "outputs": [
    {
     "name": "stdout",
     "output_type": "stream",
     "text": [
      "Influencer: A\n",
      "Company Depth: 3\n"
     ]
    }
   ],
   "source": [
    "# 10. Find Influencers in Social Network\n",
    "def most_connected_user(graph):\n",
    "    return max(graph, key=lambda user: len(graph[user]))\n",
    "\n",
    "def tree_depth(tree, node):\n",
    "    if node not in tree or not tree[node]:\n",
    "        return 1\n",
    "    return 1 + max(tree_depth(tree, child) for child in tree[node])\n",
    "\n",
    "friend_graph = {\n",
    "    \"A\": [\"B\", \"C\", \"D\"],\n",
    "    \"B\": [\"A\", \"E\"],\n",
    "    \"C\": [\"A\"],\n",
    "    \"D\": [\"A\"],\n",
    "    \"E\": [\"B\"]\n",
    "}\n",
    "company_tree = {\n",
    "    \"CEO\": [\"Manager1\", \"Manager2\"],\n",
    "    \"Manager1\": [\"Employee1\", \"Employee2\"],\n",
    "    \"Manager2\": [],\n",
    "    \"Employee1\": [],\n",
    "    \"Employee2\": []\n",
    "}\n",
    "\n",
    "print(\"Influencer:\", most_connected_user(friend_graph))\n",
    "print(\"Company Depth:\", tree_depth(company_tree, \"CEO\"))\n"
   ]
  },
  {
   "cell_type": "code",
   "execution_count": null,
   "id": "d9bdf95a",
   "metadata": {},
   "outputs": [],
   "source": []
  }
 ],
 "metadata": {
  "kernelspec": {
   "display_name": ".venv-1 (3.12.3)",
   "language": "python",
   "name": "python3"
  },
  "language_info": {
   "codemirror_mode": {
    "name": "ipython",
    "version": 3
   },
   "file_extension": ".py",
   "mimetype": "text/x-python",
   "name": "python",
   "nbconvert_exporter": "python",
   "pygments_lexer": "ipython3",
   "version": "3.12.3"
  }
 },
 "nbformat": 4,
 "nbformat_minor": 5
}
